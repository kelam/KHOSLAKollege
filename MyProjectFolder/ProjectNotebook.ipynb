{
 "cells": [
  {
   "cell_type": "markdown",
   "metadata": {},
   "source": [
    "# KHOSLA Kollege"
   ]
  },
  {
   "cell_type": "markdown",
   "metadata": {},
   "source": [
    "The immense Avengers Endgame hype and bandwagoning has destroyed UCSD, leading to even MORE construction than it is already under. Chancellor Khosla has decided to take advantage of this opportunity by rebranding UCSD as KHOSLA Kollege, with the six college system influenced by the Avengers. This project lets the user relive starting college but at the new and improved KHOSLA Kollege by asking for user inputs to allow them to choose their path at this revived University.\n",
    "### Note: Please make sure to type exactly as shown or we'll drop you :). (That means you'll have to restart the process if you mess up)\n",
    "Also if you don't like Marvel I hope Thanos comes back and snaps you outta here."
   ]
  },
  {
   "cell_type": "code",
   "execution_count": null,
   "metadata": {},
   "outputs": [],
   "source": [
    "from my_module.functions import *"
   ]
  },
  {
   "cell_type": "code",
   "execution_count": null,
   "metadata": {},
   "outputs": [],
   "source": [
    "Coleslaw = CollegeProcess()\n",
    "Coleslaw.college_ranking()\n",
    "Coleslaw.lottery()\n",
    "Coleslaw.housing()\n",
    "Coleslaw.dining()\n",
    "Coleslaw.major()\n",
    "Coleslaw.result()"
   ]
  },
  {
   "cell_type": "code",
   "execution_count": null,
   "metadata": {},
   "outputs": [],
   "source": []
  }
 ],
 "metadata": {
  "kernelspec": {
   "display_name": "Python 3",
   "language": "python",
   "name": "python3"
  },
  "language_info": {
   "codemirror_mode": {
    "name": "ipython",
    "version": 3
   },
   "file_extension": ".py",
   "mimetype": "text/x-python",
   "name": "python",
   "nbconvert_exporter": "python",
   "pygments_lexer": "ipython3",
   "version": "3.6.7"
  }
 },
 "nbformat": 4,
 "nbformat_minor": 2
}
